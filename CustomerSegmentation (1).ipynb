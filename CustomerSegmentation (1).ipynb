{
  "nbformat": 4,
  "nbformat_minor": 0,
  "metadata": {
    "colab": {
      "private_outputs": true,
      "provenance": []
    },
    "kernelspec": {
      "name": "python3",
      "display_name": "Python 3"
    },
    "language_info": {
      "name": "python"
    }
  },
  "cells": [
    {
      "cell_type": "code",
      "execution_count": null,
      "metadata": {
        "id": "m63WOj-uuJDe"
      },
      "outputs": [],
      "source": [
        "import numpy as np\n",
        "import pandas as pd\n",
        "import matplotlib.pyplot as plt\n",
        "import seaborn as sns\n",
        "from sklearn.cluster import KMeans\n",
        "custSegData = pd.read_csv('/content/drive/MyDrive/CustSegData.csv')\n",
        "custSegData.head()\n",
        "custSegData.shape\n",
        "custSegData = custSegData.fillna('')\n",
        "\n"
      ]
    },
    {
      "cell_type": "code",
      "source": [
        "x = custSegData.iloc[:,[3,4]].values\n",
        "wcss_values = []\n",
        "\n",
        "for i in range(1,11):\n",
        "  kmeans = KMeans(n_clusters=i, init='k-means++', random_state=40)\n",
        "  kmeans.fit(x)\n",
        "\n",
        "  wcss_values.append(kmeans.inertia_)"
      ],
      "metadata": {
        "id": "KhWjGR2i4jyg"
      },
      "execution_count": null,
      "outputs": []
    },
    {
      "cell_type": "code",
      "source": [
        "sns.set()\n",
        "plt.plot(range(1,11), wcss_values)\n",
        "plt.title('Plot of wcss vs no of clusters')\n",
        "plt.xlabel('Number of Clusters')\n",
        "plt.ylabel('WCSS_Value')\n",
        "plt.show()"
      ],
      "metadata": {
        "id": "zIo57Uasypqn"
      },
      "execution_count": null,
      "outputs": []
    },
    {
      "cell_type": "markdown",
      "source": [
        "It can be observed that the optimum no of clusters is 5"
      ],
      "metadata": {
        "id": "la_fAL5Wy-Lg"
      }
    },
    {
      "cell_type": "code",
      "source": [
        "kmeans = KMeans(n_clusters=5, init='k-means++', random_state=0)\n",
        "\n",
        "# return a label for each data point based on their cluster\n",
        "y = kmeans.fit_predict(x)\n",
        "\n",
        "print(y)"
      ],
      "metadata": {
        "id": "gYUgchEhzFVZ"
      },
      "execution_count": null,
      "outputs": []
    },
    {
      "cell_type": "code",
      "source": [
        "plt.figure(figsize=(8,8))\n",
        "plt.scatter(x[y==0,0], x[y==0,1], s=50, c='green', label='Group 1')\n",
        "plt.scatter(x[y==1,0], x[y==1,1], s=50, c='pink', label='Group 2')\n",
        "plt.scatter(x[y==2,0], x[y==2,1], s=50, c='yellow', label='Group 3')\n",
        "plt.scatter(x[y==3,0], x[y==3,1], s=50, c='blue', label='Group 4')\n",
        "plt.scatter(x[y==4,0], x[y==4,1], s=50, c='black', label='Group 5')\n",
        "\n",
        "# plot the centroids\n",
        "plt.scatter(kmeans.cluster_centers_[:,0], kmeans.cluster_centers_[:,1], s=100, c='cyan', label='Centroids')\n",
        "\n",
        "plt.title('Customer Groups')\n",
        "plt.xlabel('Annual Income')\n",
        "plt.ylabel('Spending Score')\n",
        "plt.show()"
      ],
      "metadata": {
        "id": "ln4Tif7gzQQZ"
      },
      "execution_count": null,
      "outputs": []
    }
  ]
}